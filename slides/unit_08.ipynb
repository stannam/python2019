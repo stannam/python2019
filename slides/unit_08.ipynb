{
 "cells": [
  {
   "cell_type": "markdown",
   "metadata": {},
   "source": [
    "# Misc Code"
   ]
  },
  {
   "cell_type": "code",
   "execution_count": 4,
   "metadata": {},
   "outputs": [
    {
     "name": "stdout",
     "output_type": "stream",
     "text": [
      " Claudius, King of Denmark.  Marcellus, Officer.  Hamlet, son to the for-\n",
      "mer, and nephew to the present king.  Polonius, Lord Chamberlain.  Horatio, friend to Hamlet.\n",
      "Laertes,  son  to  Polonius.   Voltemand,  courtier.   Cornelius,  courtier.   Rosencrantz,  courtier.\n",
      "Guildenstern, courtier.  Osric, courtier.  A Priest.  Marcellus, officer.  Bernardo, officer.  Fran-\n",
      "cisco, a soldier Reynaldo, servant to Polonius.  Players.  Two Clowns, gravediggers.  Fortinbras,\n",
      "Prince of Norway.  A Norwegian Captain.  English Ambassadors.\n"
     ]
    }
   ],
   "source": [
    "text= \"\"\" Claudius, King of Denmark.  Marcellus, Officer.  Hamlet, son to the for-\n",
    "mer, and nephew to the present king.  Polonius, Lord Chamberlain.  Horatio, friend to Hamlet.\n",
    "Laertes,  son  to  Polonius.   Voltemand,  courtier.   Cornelius,  courtier.   Rosencrantz,  courtier.\n",
    "Guildenstern, courtier.  Osric, courtier.  A Priest.  Marcellus, officer.  Bernardo, officer.  Fran-\n",
    "cisco, a soldier Reynaldo, servant to Polonius.  Players.  Two Clowns, gravediggers.  Fortinbras,\n",
    "Prince of Norway.  A Norwegian Captain.  English Ambassadors.\"\"\"\n",
    "print(text)"
   ]
  },
  {
   "cell_type": "code",
   "execution_count": 5,
   "metadata": {},
   "outputs": [
    {
     "name": "stdout",
     "output_type": "stream",
     "text": [
      "Claudius, King of Denmark.  Marcellus, Officer.  Hamlet, son to the for-mer, and nephew to the present king.  Polonius, Lord Chamberlain.  Horatio, friend to Hamlet.Laertes,  son  to  Polonius.   Voltemand,  courtier.   Cornelius,  courtier.   Rosencrantz,  courtier.Guildenstern, courtier.  Osric, courtier.  A Priest.  Marcellus, officer.  Bernardo, officer.  Fran-cisco, a soldier Reynaldo, servant to Polonius.  Players.  Two Clowns, gravediggers.  Fortinbras,Prince of Norway.  A Norwegian Captain.  English Ambassadors\n"
     ]
    }
   ],
   "source": [
    "\n",
    "def cleaner(t):\n",
    "    #remove the last character in the string (which is a dot)\n",
    "    t=t[:-1]\n",
    "    t=t.strip()\n",
    "#     t= t.replace(\".\", \"\")\n",
    "#     t= t.replace(\",\", \"\")\n",
    "    t= t.replace(\"\\n\", \"\")\n",
    "    return t\n",
    "    \n",
    "#Call function\n",
    "x= cleaner(text)\n",
    "print(x)"
   ]
  },
  {
   "cell_type": "code",
   "execution_count": 51,
   "metadata": {},
   "outputs": [
    {
     "name": "stdout",
     "output_type": "stream",
     "text": [
      "hello\n"
     ]
    }
   ],
   "source": [
    "# Get red of last char in a string\n",
    "g=\"hello.\"\n",
    "g=g[:-1]\n",
    "print(g)"
   ]
  },
  {
   "cell_type": "code",
   "execution_count": 31,
   "metadata": {
    "collapsed": true
   },
   "outputs": [],
   "source": [
    "def get_word_count(input_text):\n",
    "    # calling the cleaner function defined earlier\n",
    "    cleaned_text= cleaner(input_text)\n",
    "    words= cleaned_text.split()\n",
    "    #print(input_text)\n",
    "    length= len(words)\n",
    "    return length"
   ]
  },
  {
   "cell_type": "code",
   "execution_count": 35,
   "metadata": {
    "collapsed": true
   },
   "outputs": [],
   "source": [
    "#call the function\n",
    "length_of_words= get_word_count(text)"
   ]
  },
  {
   "cell_type": "code",
   "execution_count": 36,
   "metadata": {},
   "outputs": [
    {
     "name": "stdout",
     "output_type": "stream",
     "text": [
      "66\n"
     ]
    }
   ],
   "source": [
    "print(length_of_words)"
   ]
  },
  {
   "cell_type": "code",
   "execution_count": 59,
   "metadata": {},
   "outputs": [
    {
     "data": {
      "text/plain": [
       "['Hamlet', ' son to the for-mer', ' and nephew to the present king']"
      ]
     },
     "execution_count": 59,
     "metadata": {},
     "output_type": "execute_result"
    }
   ],
   "source": [
    "# One chunk has two commas!\n",
    "h=\"Hamlet, son to the for-mer, and nephew to the present king\"\n",
    "h.split(\",\")"
   ]
  },
  {
   "cell_type": "code",
   "execution_count": 6,
   "metadata": {},
   "outputs": [
    {
     "name": "stdout",
     "output_type": "stream",
     "text": [
      "['Claudius, King of Denmark', '  Marcellus, Officer', '  Hamlet, son to the for-mer, and nephew to the present king', '  Polonius, Lord Chamberlain', '  Horatio, friend to Hamlet', 'Laertes,  son  to  Polonius', '   Voltemand,  courtier', '   Cornelius,  courtier', '   Rosencrantz,  courtier', 'Guildenstern, courtier', '  Osric, courtier', '  A Priest', '  Marcellus, officer', '  Bernardo, officer', '  Fran-cisco, a soldier Reynaldo, servant to Polonius', '  Players', '  Two Clowns, gravediggers', '  Fortinbras,Prince of Norway', '  A Norwegian Captain', '  English Ambassadors']\n"
     ]
    }
   ],
   "source": [
    "new_text= cleaner(text)\n",
    "sentences=new_text.split(\".\")\n",
    "print(sentences)"
   ]
  },
  {
   "cell_type": "code",
   "execution_count": 70,
   "metadata": {
    "collapsed": true
   },
   "outputs": [],
   "source": [
    "def chunker(l):\n",
    "    # create empty dict\n",
    "    d={}\n",
    "    for chunk in l:\n",
    "        pair=chunk.split(\",\")\n",
    "        if len(pair)==2:\n",
    "            name=pair[0]\n",
    "            job=pair[-1]\n",
    "            #print(name+\" --> \"+job)\n",
    "            # populate the dict\n",
    "            d[name]=job\n",
    "        elif len(pair)==3:\n",
    "            name= pair[0]\n",
    "            job= pair[1] + pair[2]\n",
    "            #print(name+\" --> \"+job)\n",
    "            # populate the dict\n",
    "            d[name]=job\n",
    "            \n",
    "    # return the dict after populating it\n",
    "    return d\n",
    "        \n",
    "# Call function       \n",
    "society = chunker(sentences)"
   ]
  },
  {
   "cell_type": "code",
   "execution_count": 8,
   "metadata": {},
   "outputs": [
    {
     "name": "stdout",
     "output_type": "stream",
     "text": [
      "['  a priest', '  players', '  a norwegian captain', '  english ambassadors']\n"
     ]
    }
   ],
   "source": [
    "def get_irregular_sent(sentences):\n",
    "    irreg_sentences=[]\n",
    "    for sent in sentences:\n",
    "        if \",\" not in sent:\n",
    "            sent=sent.lower()\n",
    "            irreg_sentences.append(sent)\n",
    "    return irreg_sentences\n",
    "\n",
    "irreg_sentences= get_irregular_sent(sentences)\n",
    "print(irreg_sentences)"
   ]
  },
  {
   "cell_type": "code",
   "execution_count": 15,
   "metadata": {},
   "outputs": [
    {
     "name": "stdout",
     "output_type": "stream",
     "text": [
      "['ambassadors', 'captain']\n"
     ]
    }
   ],
   "source": [
    "professions=[\"ambassadors\", \"officer\", \"captain\"]\n",
    "\n",
    "def get_irreg_professions(professions, irreg_sentences):\n",
    "    exceptional_professions=[]\n",
    "    for p in professions:\n",
    "        for irreg in irreg_sentences:\n",
    "            if p in irreg:\n",
    "                exceptional_professions.append(p)\n",
    "                #print(p)\n",
    "    return exceptional_professions\n",
    "#######\n",
    "exceptional_professions= get_irreg_professions(professions, irreg_sentences)\n",
    "print(exceptional_professions)"
   ]
  },
  {
   "cell_type": "code",
   "execution_count": null,
   "metadata": {
    "collapsed": true
   },
   "outputs": [],
   "source": []
  },
  {
   "cell_type": "code",
   "execution_count": null,
   "metadata": {
    "collapsed": true
   },
   "outputs": [],
   "source": []
  },
  {
   "cell_type": "code",
   "execution_count": null,
   "metadata": {
    "collapsed": true
   },
   "outputs": [],
   "source": []
  },
  {
   "cell_type": "code",
   "execution_count": null,
   "metadata": {
    "collapsed": true
   },
   "outputs": [],
   "source": []
  },
  {
   "cell_type": "code",
   "execution_count": null,
   "metadata": {
    "collapsed": true
   },
   "outputs": [],
   "source": []
  },
  {
   "cell_type": "code",
   "execution_count": null,
   "metadata": {
    "collapsed": true
   },
   "outputs": [],
   "source": []
  },
  {
   "cell_type": "code",
   "execution_count": null,
   "metadata": {
    "collapsed": true
   },
   "outputs": [],
   "source": []
  },
  {
   "cell_type": "code",
   "execution_count": null,
   "metadata": {
    "collapsed": true
   },
   "outputs": [],
   "source": [
    "professions"
   ]
  },
  {
   "cell_type": "code",
   "execution_count": 72,
   "metadata": {},
   "outputs": [
    {
     "name": "stdout",
     "output_type": "stream",
     "text": [
      "   Voltemand -->   courtier\n",
      "Guildenstern -->  courtier\n",
      "   Rosencrantz -->   courtier\n",
      "  Osric -->  courtier\n",
      "   Cornelius -->   courtier\n"
     ]
    }
   ],
   "source": [
    "for k in society:\n",
    "    person=k\n",
    "    function=society[k]\n",
    "    if \"courtier\" in function:\n",
    "        print(person+\" --> \"+ function)"
   ]
  },
  {
   "cell_type": "code",
   "execution_count": 28,
   "metadata": {},
   "outputs": [
    {
     "name": "stdout",
     "output_type": "stream",
     "text": [
      "['Rosencrantz', 'Guildenstern', 'Voltemand', 'Osric', 'Cornelius']\n"
     ]
    }
   ],
   "source": [
    "text= \"\"\" Claudius, King of Denmark.  Marcellus, Officer.  Hamlet, son to the for-\n",
    "mer, and nephew to the present king.  Polonius, Lord Chamberlain.  Horatio, friend to Hamlet.\n",
    "Laertes,  son  to  Polonius.   Voltemand,  courtier.   Cornelius,  courtier.   Rosencrantz,  courtier.\n",
    "Guildenstern, courtier.  Osric, courtier.  A Priest.  Marcellus, officer.  Bernardo, officer.  Fran-\n",
    "cisco, a soldier Reynaldo, servant to Polonius.  Players.  Two Clowns, gravediggers.  Fortinbras,\n",
    "Prince of Norway.  A Norwegian Captain.  English Ambassadors.\"\"\"\n",
    "#print(text)\n",
    "\n",
    "def get_job(text):\n",
    "    d={}\n",
    "    new_text=text.split(\".\")\n",
    "    #print(new_text)\n",
    "    for i in new_text:\n",
    "        #if \"courtier\" in i:\n",
    "        new_i=i.split(\",\")\n",
    "        name=new_i[0]\n",
    "        job=new_i[-1]\n",
    "        #print(job)\n",
    "        d[name]=job\n",
    "    return d\n",
    "        \n",
    "\n",
    "society= get_job(text)\n",
    "courtiers=[]\n",
    "for k in society:\n",
    "    if \"courtier\" in society[k]:\n",
    "        clean_k=k.strip()\n",
    "        courtiers.append(clean_k)\n",
    "        #print(clean_k)\n",
    "print(courtiers)"
   ]
  },
  {
   "cell_type": "code",
   "execution_count": null,
   "metadata": {
    "collapsed": true
   },
   "outputs": [],
   "source": []
  }
 ],
 "metadata": {
  "celltoolbar": "Slideshow",
  "kernelspec": {
   "display_name": "Python 2",
   "language": "python",
   "name": "python2"
  },
  "language_info": {
   "codemirror_mode": {
    "name": "ipython",
    "version": 2
   },
   "file_extension": ".py",
   "mimetype": "text/x-python",
   "name": "python",
   "nbconvert_exporter": "python",
   "pygments_lexer": "ipython2",
   "version": "2.7.12"
  }
 },
 "nbformat": 4,
 "nbformat_minor": 1
}
