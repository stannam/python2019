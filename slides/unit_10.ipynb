{
 "cells": [
  {
   "cell_type": "markdown",
   "metadata": {
    "slideshow": {
     "slide_type": "slide"
    }
   },
   "source": [
    "# Modules"
   ]
  },
  {
   "cell_type": "markdown",
   "metadata": {
    "slideshow": {
     "slide_type": "slide"
    }
   },
   "source": [
    "* Simply put, **modules are programs**\n",
    "* Write some code in a file, save it, run it from command line.\n",
    "* **python hello.py** is an example run, if your file was named \"hello\".\n",
    "* Always have the **.py** extension to your Python files. "
   ]
  },
  {
   "cell_type": "code",
   "execution_count": 13,
   "metadata": {
    "slideshow": {
     "slide_type": "slide"
    }
   },
   "outputs": [
    {
     "name": "stdout",
     "output_type": "stream",
     "text": [
      "3.16227766017\n"
     ]
    }
   ],
   "source": [
    "import math\n",
    "sr_ten= math.sqrt(10)\n",
    "print(sr_ten)"
   ]
  },
  {
   "cell_type": "code",
   "execution_count": 14,
   "metadata": {
    "slideshow": {
     "slide_type": "slide"
    }
   },
   "outputs": [
    {
     "name": "stdout",
     "output_type": "stream",
     "text": [
      "3.16\n"
     ]
    }
   ],
   "source": [
    "# Round to 2 decimal points with \"round()\n",
    "import math\n",
    "sr_ten= math.sqrt(10)\n",
    "sr_ten=round(sr_ten, 2)\n",
    "print(sr_ten)"
   ]
  },
  {
   "cell_type": "code",
   "execution_count": 15,
   "metadata": {
    "slideshow": {
     "slide_type": "slide"
    }
   },
   "outputs": [
    {
     "name": "stdout",
     "output_type": "stream",
     "text": [
      "[0, 1, 2, 3, 4]\n"
     ]
    }
   ],
   "source": [
    "# Let's do a bunch:\n",
    "x=range(0,5)\n",
    "print(x)"
   ]
  },
  {
   "cell_type": "code",
   "execution_count": 17,
   "metadata": {
    "slideshow": {
     "slide_type": "slide"
    }
   },
   "outputs": [
    {
     "name": "stdout",
     "output_type": "stream",
     "text": [
      "0.0\n",
      "1.0\n",
      "1.41\n",
      "1.73\n",
      "2.0\n"
     ]
    }
   ],
   "source": [
    "x=range(0,5)\n",
    "for i in x:\n",
    "    sr_i=round(math.sqrt(i),2)\n",
    "    print(sr_i)"
   ]
  },
  {
   "cell_type": "markdown",
   "metadata": {
    "slideshow": {
     "slide_type": "slide"
    }
   },
   "source": [
    "**Excercise**\n",
    "* Starting from a fresh file, write a function **square_nums** that takes a list of numbers between 0 and 10 as input, squares each it in the list, and returns another list with all the squared numbers.\n",
    "* Call your function, harvesting the returned squared list in a variable **my_squared_list**.\n",
    "* Print the items of **my_squared_list**\n",
    "* Save your file as **square.py**\n",
    "* From the command line, run your script (Hint: run **python square.py**) "
   ]
  },
  {
   "cell_type": "code",
   "execution_count": 25,
   "metadata": {
    "slideshow": {
     "slide_type": "slide"
    }
   },
   "outputs": [
    {
     "name": "stdout",
     "output_type": "stream",
     "text": [
      "Original list: [0, 1, 2, 3, 4, 5, 6, 7, 8, 9, 10]\n",
      "Square rooted: [0.0, 1.0, 1.41, 1.73, 2.0, 2.24, 2.45, 2.65, 2.83, 3.0, 3.16]\n"
     ]
    }
   ],
   "source": [
    "import math\n",
    "nums_list=range(0,11)\n",
    "print(\"Original list: {}\".format(nums_list))\n",
    "def square_nums(nums_list):\n",
    "    my_squared_list=[ round(math.sqrt(i), 2) for i in nums_list]\n",
    "    return my_squared_list\n",
    "\n",
    "x=square_nums(nums_list)  \n",
    "print(\"Square rooted: {}\".format(x))\n"
   ]
  }
 ],
 "metadata": {
  "celltoolbar": "Slideshow",
  "kernelspec": {
   "display_name": "Python 2",
   "language": "python",
   "name": "python2"
  },
  "language_info": {
   "codemirror_mode": {
    "name": "ipython",
    "version": 2
   },
   "file_extension": ".py",
   "mimetype": "text/x-python",
   "name": "python",
   "nbconvert_exporter": "python",
   "pygments_lexer": "ipython2",
   "version": "2.7.12"
  }
 },
 "nbformat": 4,
 "nbformat_minor": 1
}
