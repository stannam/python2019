{
 "cells": [
  {
   "cell_type": "markdown",
   "metadata": {
    "slideshow": {
     "slide_type": "slide"
    }
   },
   "source": [
    "# Files"
   ]
  },
  {
   "cell_type": "markdown",
   "metadata": {
    "slideshow": {
     "slide_type": "slide"
    }
   },
   "source": [
    "* Python is an excellent language for working with textual data.\n",
    "* In this tutorial, we cover how to read and write text files.\n",
    "* Download the file at: http://www.gutenberg.org/cache/epub/100/pg100.txt and save it to \"shakespeare.txt\""
   ]
  },
  {
   "cell_type": "code",
   "execution_count": 2,
   "metadata": {
    "slideshow": {
     "slide_type": "slide"
    }
   },
   "outputs": [
    {
     "name": "stdout",
     "output_type": "stream",
     "text": [
      "<type 'file'>\n"
     ]
    }
   ],
   "source": [
    "# \"open\" will return a \"file\" object. \n",
    "# Note we are opening the file for reading (by providing a mode --> \"r\" argument)\n",
    "shakespeare_works=open(\"shakespeare.txt\", \"r\")\n",
    "print(type(shakespeare_works))"
   ]
  },
  {
   "cell_type": "markdown",
   "metadata": {
    "slideshow": {
     "slide_type": "slide"
    }
   },
   "source": [
    "* The file must be in your current directory (same as this Jupyter notebook or where your \".py\" script lives)\n",
    "* Another option would be to provide the \"full path\" where the file lives on desk."
   ]
  },
  {
   "cell_type": "markdown",
   "metadata": {
    "slideshow": {
     "slide_type": "slide"
    }
   },
   "source": [
    "* Modes include: **\"r\" for reading**, **\"w\" for writing**, and **\"a\" for appending**"
   ]
  },
  {
   "cell_type": "code",
   "execution_count": 4,
   "metadata": {
    "slideshow": {
     "slide_type": "slide"
    }
   },
   "outputs": [
    {
     "name": "stdout",
     "output_type": "stream",
     "text": [
      "<type 'str'>\n"
     ]
    }
   ],
   "source": [
    "# Read the whole file as a big \"string\"\n",
    "f =open(\"shakespeare.txt\", \"r\")\n",
    "f=f.read() # f =open(\"shakespeare.txt\", \"r\").read() --> will also work\n",
    "print(type(f))"
   ]
  },
  {
   "cell_type": "code",
   "execution_count": 5,
   "metadata": {
    "slideshow": {
     "slide_type": "slide"
    }
   },
   "outputs": [
    {
     "name": "stdout",
     "output_type": "stream",
     "text": [
      "5589889\n"
     ]
    }
   ],
   "source": [
    "# It's a very big string\n",
    "print(len(f))"
   ]
  },
  {
   "cell_type": "code",
   "execution_count": 7,
   "metadata": {
    "slideshow": {
     "slide_type": "slide"
    }
   },
   "outputs": [
    {
     "name": "stdout",
     "output_type": "stream",
     "text": [
      "﻿The Project Gutenberg \n"
     ]
    }
   ],
   "source": [
    "print(f[:25])"
   ]
  },
  {
   "cell_type": "code",
   "execution_count": 10,
   "metadata": {
    "slideshow": {
     "slide_type": "slide"
    }
   },
   "outputs": [
    {
     "name": "stdout",
     "output_type": "stream",
     "text": [
      "﻿The Project Gutenberg EBook of The Complete Wor\n"
     ]
    }
   ],
   "source": [
    "print(f[:50])"
   ]
  },
  {
   "cell_type": "code",
   "execution_count": 11,
   "metadata": {
    "slideshow": {
     "slide_type": "slide"
    }
   },
   "outputs": [
    {
     "name": "stdout",
     "output_type": "stream",
     "text": [
      "\r\n",
      "\r\n",
      "This eBook is for the use of anyone anywhere at no cost and with\r\n",
      "almost no restrictions whatsoe\n"
     ]
    }
   ],
   "source": [
    "print(f[100:200])"
   ]
  },
  {
   "cell_type": "code",
   "execution_count": 12,
   "metadata": {
    "slideshow": {
     "slide_type": "slide"
    }
   },
   "outputs": [
    {
     "name": "stdout",
     "output_type": "stream",
     "text": [
      "<type 'list'>\n"
     ]
    }
   ],
   "source": [
    "# readlines() will return a list of all the lines in the file\n",
    "f =open(\"shakespeare.txt\", \"r\").readlines()\n",
    "print(type(f))"
   ]
  },
  {
   "cell_type": "code",
   "execution_count": 13,
   "metadata": {
    "slideshow": {
     "slide_type": "slide"
    }
   },
   "outputs": [
    {
     "name": "stdout",
     "output_type": "stream",
     "text": [
      "124787\n"
     ]
    }
   ],
   "source": [
    "print(len(f))"
   ]
  },
  {
   "cell_type": "code",
   "execution_count": 14,
   "metadata": {
    "slideshow": {
     "slide_type": "slide"
    }
   },
   "outputs": [
    {
     "name": "stdout",
     "output_type": "stream",
     "text": [
      "['\\xef\\xbb\\xbfThe Project Gutenberg EBook of The Complete Works of William Shakespeare, by\\r\\n', 'William Shakespeare\\r\\n', '\\r\\n', 'This eBook is for the use of anyone anywhere at no cost and with\\r\\n', 'almost no restrictions whatsoever.  You may copy it, give it away or\\r\\n']\n"
     ]
    }
   ],
   "source": [
    "print(f[:5])"
   ]
  },
  {
   "cell_type": "code",
   "execution_count": 15,
   "metadata": {
    "slideshow": {
     "slide_type": "slide"
    }
   },
   "outputs": [
    {
     "name": "stdout",
     "output_type": "stream",
     "text": [
      "*** END: FULL LICENSE ***\r\n",
      "\n"
     ]
    }
   ],
   "source": [
    "print(f[-1])"
   ]
  },
  {
   "cell_type": "code",
   "execution_count": null,
   "metadata": {
    "collapsed": true,
    "slideshow": {
     "slide_type": "slide"
    }
   },
   "outputs": [],
   "source": [
    "# Close your files!\n",
    "f.close()"
   ]
  },
  {
   "cell_type": "code",
   "execution_count": 28,
   "metadata": {
    "collapsed": true,
    "slideshow": {
     "slide_type": "slide"
    }
   },
   "outputs": [],
   "source": [
    "out_f = open(\"./small_text.txt\", \"w\")"
   ]
  },
  {
   "cell_type": "code",
   "execution_count": 29,
   "metadata": {
    "collapsed": true,
    "slideshow": {
     "slide_type": "slide"
    }
   },
   "outputs": [],
   "source": [
    "question=\"Do you like Python?\\n\" # Note we add \"\\n\" as write does not automatically do that for us\n",
    "out_f.write(question)"
   ]
  },
  {
   "cell_type": "code",
   "execution_count": 31,
   "metadata": {
    "collapsed": true
   },
   "outputs": [],
   "source": [
    "out_f = open(\"./small_text.txt\", \"a\") # Note the \"a\" (append) mode"
   ]
  },
  {
   "cell_type": "code",
   "execution_count": 32,
   "metadata": {
    "collapsed": true,
    "slideshow": {
     "slide_type": "slide"
    }
   },
   "outputs": [],
   "source": [
    "another_question=\"Do you like Lua?\\n\"\n",
    "out_f.write(another_question)"
   ]
  },
  {
   "cell_type": "markdown",
   "metadata": {
    "slideshow": {
     "slide_type": "slide"
    }
   },
   "source": [
    "# More with files"
   ]
  },
  {
   "cell_type": "code",
   "execution_count": 27,
   "metadata": {
    "slideshow": {
     "slide_type": "slide"
    }
   },
   "outputs": [
    {
     "name": "stdout",
     "output_type": "stream",
     "text": [
      "The word \"the\" occurs \"5\" times.\n",
      "The word \"**\" occurs \"4\" times.\n",
      "The word \"this\" occurs \"4\" times.\n",
      "The word \"of\" occurs \"4\" times.\n",
      "The word \"ebook\" occurs \"3\" times.\n",
      "The word \"gutenberg\" occurs \"3\" times.\n",
      "The word \"project\" occurs \"3\" times.\n"
     ]
    }
   ],
   "source": [
    "from collections import defaultdict\n",
    "\n",
    "def get_dict(sentences):\n",
    "    \"\"\"\n",
    "    arguments:\n",
    "    input: @sentences: a list of sentences\n",
    "    returns: a dictionary of the words in the sentences.\n",
    "             dict key is a word and value is word frequency\n",
    "    \"\"\"\n",
    "    word_freq=defaultdict(int)\n",
    "    for sent in sentences:\n",
    "        words=sent.lower().split()\n",
    "        for w in words:\n",
    "            word_freq[w]+=1\n",
    "    return word_freq\n",
    "\n",
    "#\n",
    "lines=open(\"shakespeare.txt\", \"r\").readlines()\n",
    "sentences=lines[:10]\n",
    "freqs=get_dict(sentences)\n",
    "# This will sort by count/value of the \"freqs\" dictionary in reverse order such that the highest values occur first\n",
    "d=sorted(freqs.items(), key = lambda x: x[1], reverse=True) # \"d\" is now a list of tuples!\n",
    "for i in d:\n",
    "    # For readability let's assign each item in the tuple to a meaningfully named variable\n",
    "    w=i[0]\n",
    "    freq=i[-1]\n",
    "    if freq > 2:\n",
    "        print(\"The word \\\"{}\\\" occurs \\\"{}\\\" times.\").format(w, freq)"
   ]
  },
  {
   "cell_type": "code",
   "execution_count": 31,
   "metadata": {
    "collapsed": true,
    "slideshow": {
     "slide_type": "slide"
    }
   },
   "outputs": [],
   "source": [
    "# This will write freqs to a file\n",
    "lines=open(\"shakespeare.txt\", \"r\").readlines()\n",
    "# We only take the top 1000 lines\n",
    "sentences=lines[:1000]\n",
    "freqs=get_dict(sentences)\n",
    "d=sorted(freqs.items(), key = lambda x: x[1], reverse=True)\n",
    "word_freqs=open(\"./word_list.txt\", \"w\")\n",
    "for i in d:\n",
    "    # For readability\n",
    "    w=i[0]\n",
    "    freq=i[-1]\n",
    "    word_freqs.write(w+\"\\t\"+str(freq)+\"\\n\")\n",
    "    \n",
    "word_freqs.close()\n",
    "    "
   ]
  }
 ],
 "metadata": {
  "celltoolbar": "Slideshow",
  "kernelspec": {
   "display_name": "Python 2",
   "language": "python",
   "name": "python2"
  },
  "language_info": {
   "codemirror_mode": {
    "name": "ipython",
    "version": 2
   },
   "file_extension": ".py",
   "mimetype": "text/x-python",
   "name": "python",
   "nbconvert_exporter": "python",
   "pygments_lexer": "ipython2",
   "version": "2.7.12"
  }
 },
 "nbformat": 4,
 "nbformat_minor": 1
}
