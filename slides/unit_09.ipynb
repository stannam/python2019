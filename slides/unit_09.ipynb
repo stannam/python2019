{
 "cells": [
  {
   "cell_type": "markdown",
   "metadata": {
    "slideshow": {
     "slide_type": "slide"
    }
   },
   "source": [
    "# Exceptions"
   ]
  },
  {
   "cell_type": "markdown",
   "metadata": {
    "slideshow": {
     "slide_type": "slide"
    }
   },
   "source": [
    "* Python implements several built-in classes for exceptions, some examples are:\n",
    "* **KeyError:** Raised when using a nonexistent key on a mapping. Subclass of LookupError.\n",
    "* **IndexError:** Raised when using a nonexistent index on a sequence. Subclass of LookupError.\n",
    "* **SyntaxError:** Raised when the code is ill-formed.\n",
    "* **TypeError:** Raised when a built-in operation or function is applied to an object of the wrong type.\n",
    "* **ValueError:** Raised when a built-in operation or function is applied to an object with the correct type but with an inappropriate value.\n",
    "* **ZeroDivisionError:** Raised when the second argument of a division or modulo operation is zero."
   ]
  },
  {
   "cell_type": "code",
   "execution_count": 2,
   "metadata": {
    "slideshow": {
     "slide_type": "slide"
    }
   },
   "outputs": [
    {
     "name": "stdout",
     "output_type": "stream",
     "text": [
      "Enter the first number: 10\n",
      "Enter the second number: 0\n",
      "The second number can't be zero!\n"
     ]
    }
   ],
   "source": [
    "try:\n",
    "    x = int(input('Enter the first number: '))\n",
    "    y = int(input('Enter the second number: '))\n",
    "    print(x / y)\n",
    "except ZeroDivisionError:\n",
    "    print(\"The second number can't be zero!\")"
   ]
  },
  {
   "cell_type": "code",
   "execution_count": 8,
   "metadata": {
    "slideshow": {
     "slide_type": "slide"
    }
   },
   "outputs": [
    {
     "name": "stdout",
     "output_type": "stream",
     "text": [
      "Enter the first number: 10\n",
      "Enter the second number: \"Hi\"\n",
      "Something went wrong!\n"
     ]
    }
   ],
   "source": [
    "try:\n",
    "    x = int(input('Enter the first number: '))\n",
    "    y = int(input('Enter the second number: '))\n",
    "    print(x / y)\n",
    "except:\n",
    "    print(\"Something went wrong!\")"
   ]
  },
  {
   "cell_type": "code",
   "execution_count": 20,
   "metadata": {
    "slideshow": {
     "slide_type": "slide"
    }
   },
   "outputs": [
    {
     "name": "stdout",
     "output_type": "stream",
     "text": [
      "Enter the first number: 10\n",
      "Enter the second number: \"Good morning!\"\n",
      "(<type 'exceptions.ValueError'>, ValueError(\"invalid literal for int() with base 10: 'Good morning!'\",))\n"
     ]
    }
   ],
   "source": [
    "try:\n",
    "    x = int(input('Enter the first number: '))\n",
    "    y = int(input('Enter the second number: '))\n",
    "    print(x / y)\n",
    "except (ZeroDivisionError, ValueError) as e:\n",
    "    print(type(e), e)"
   ]
  },
  {
   "cell_type": "code",
   "execution_count": 26,
   "metadata": {
    "slideshow": {
     "slide_type": "slide"
    }
   },
   "outputs": [
    {
     "name": "stdout",
     "output_type": "stream",
     "text": [
      "Enter the first number: 10\n",
      "Enter the second number: \"Good morning!\"\n",
      "('There is a', ValueError(\"invalid literal for int() with base 10: 'Good morning!'\",))\n"
     ]
    }
   ],
   "source": [
    "try:\n",
    "    x = int(input('Enter the first number: '))\n",
    "    y = int(input('Enter the second number: '))\n",
    "    print(x / y)\n",
    "except Exception as e:\n",
    "    print(\"There is a\", e)"
   ]
  },
  {
   "cell_type": "code",
   "execution_count": 27,
   "metadata": {
    "slideshow": {
     "slide_type": "slide"
    }
   },
   "outputs": [
    {
     "name": "stdout",
     "output_type": "stream",
     "text": [
      "Enter the first number: 10\n",
      "Enter the second number: 0\n",
      "('There is a', ZeroDivisionError('integer division or modulo by zero',))\n"
     ]
    }
   ],
   "source": [
    "try:\n",
    "    x = int(input('Enter the first number: '))\n",
    "    y = int(input('Enter the second number: '))\n",
    "    print(x / y)\n",
    "except Exception as e:\n",
    "    print(\"There is a\", e)"
   ]
  },
  {
   "cell_type": "code",
   "execution_count": 11,
   "metadata": {
    "slideshow": {
     "slide_type": "slide"
    }
   },
   "outputs": [
    {
     "name": "stdout",
     "output_type": "stream",
     "text": [
      "('There was an error!', KeyError('NYC',))\n"
     ]
    }
   ],
   "source": [
    "temperature={\"Vancouver\": 55, \"Seattle\": 52}\n",
    "try:\n",
    "    print(temperature[\"NYC\"])\n",
    "except Exception as e:\n",
    "    print(\"There was an error!\", e)"
   ]
  },
  {
   "cell_type": "code",
   "execution_count": 12,
   "metadata": {
    "slideshow": {
     "slide_type": "slide"
    }
   },
   "outputs": [
    {
     "name": "stdout",
     "output_type": "stream",
     "text": [
      "'NYC'\n"
     ]
    }
   ],
   "source": [
    "temperature={\"Vancouver\": 55, \"Seattle\": 52}\n",
    "try:\n",
    "    print(temperature[\"NYC\"])\n",
    "except KeyError as e:\n",
    "    print(e)"
   ]
  },
  {
   "cell_type": "code",
   "execution_count": 13,
   "metadata": {
    "slideshow": {
     "slide_type": "slide"
    }
   },
   "outputs": [
    {
     "name": "stdout",
     "output_type": "stream",
     "text": [
      "55\n"
     ]
    }
   ],
   "source": [
    "temperature={\"Vancouver\": 55, \"Seattle\": 52}\n",
    "try:\n",
    "    print(temperature[\"Vancouver\"])\n",
    "except KeyError as e:\n",
    "    print(e)"
   ]
  },
  {
   "cell_type": "code",
   "execution_count": 16,
   "metadata": {
    "slideshow": {
     "slide_type": "slide"
    }
   },
   "outputs": [
    {
     "name": "stdout",
     "output_type": "stream",
     "text": [
      "('There was an error!', IndexError('list index out of range',))\n"
     ]
    }
   ],
   "source": [
    "cities=[\"Toronto\", \"Montreal\", \"Orlando\"]\n",
    "try:\n",
    "    print(cities[5])\n",
    "except Exception as e:\n",
    "    print(\"There was an error!\", e)"
   ]
  },
  {
   "cell_type": "code",
   "execution_count": 20,
   "metadata": {
    "slideshow": {
     "slide_type": "slide"
    }
   },
   "outputs": [
    {
     "name": "stdout",
     "output_type": "stream",
     "text": [
      "('There was an error!', IndexError('list index out of range',))\n",
      "Your list has 3 items\n"
     ]
    }
   ],
   "source": [
    "cities=[\"Toronto\", \"Montreal\", \"Orlando\"]\n",
    "try:\n",
    "    print(cities[5])\n",
    "except Exception as e:\n",
    "    print(\"There was an error!\", e)\n",
    "    print((\"Your list has {} items.\").format(len(cities)))"
   ]
  },
  {
   "cell_type": "markdown",
   "metadata": {
    "slideshow": {
     "slide_type": "slide"
    }
   },
   "source": [
    "# Excercise"
   ]
  },
  {
   "cell_type": "code",
   "execution_count": 21,
   "metadata": {
    "collapsed": true,
    "slideshow": {
     "slide_type": "slide"
    }
   },
   "outputs": [],
   "source": [
    "students={\"Adam\": \"is a 25 year old student who like math!\",\n",
    "         \"Sara\": \"is a 23 year old girl who like coding!\",\n",
    "         \"Jenny\": \"is a 30 year old teacher.\",\n",
    "         \"Ahmad\": \"is an 18 year old guru!!\"}"
   ]
  },
  {
   "cell_type": "markdown",
   "metadata": {
    "slideshow": {
     "slide_type": "slide"
    }
   },
   "source": [
    "* Write a \"describe_student\" function that takes a name as input and prints its description from the \"student\" dictionary above. Call the function with the following, such that it does not break. **Hint:** Use exception handling!\n",
    "\n",
    "* describe_student(\"Sara\")\n",
    "* describe_student(\"Adam\")\n",
    "* describe_student(\"Craig\")\n",
    "* describe_student(\"Nakul\")"
   ]
  }
 ],
 "metadata": {
  "celltoolbar": "Slideshow",
  "kernelspec": {
   "display_name": "Python 2",
   "language": "python",
   "name": "python2"
  },
  "language_info": {
   "codemirror_mode": {
    "name": "ipython",
    "version": 2
   },
   "file_extension": ".py",
   "mimetype": "text/x-python",
   "name": "python",
   "nbconvert_exporter": "python",
   "pygments_lexer": "ipython2",
   "version": "2.7.12"
  }
 },
 "nbformat": 4,
 "nbformat_minor": 1
}
