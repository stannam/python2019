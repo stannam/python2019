{
 "cells": [
  {
   "cell_type": "markdown",
   "metadata": {
    "slideshow": {
     "slide_type": "slide"
    }
   },
   "source": [
    "# Functions"
   ]
  },
  {
   "cell_type": "markdown",
   "metadata": {
    "slideshow": {
     "slide_type": "fragment"
    }
   },
   "source": [
    "* Think of a function is a \"chunk\" of code whose job is to get something done.\n",
    "* In a project where you are trying to do something that needs several steps, you can encapsulate each step in a function.\n",
    "* You first \"create\" or \"define\" a function, then you \"call\" it."
   ]
  },
  {
   "cell_type": "markdown",
   "metadata": {
    "slideshow": {
     "slide_type": "slide"
    }
   },
   "source": [
    "* The following is a function that only prints something, but does not \n",
    "\"return\" anything"
   ]
  },
  {
   "cell_type": "code",
   "execution_count": 7,
   "metadata": {
    "slideshow": {
     "slide_type": "fragment"
    }
   },
   "outputs": [
    {
     "name": "stdout",
     "output_type": "stream",
     "text": [
      "- Hello Dane!\n",
      "- Hello Chris!\n",
      "- Hello Lubna!\n"
     ]
    }
   ],
   "source": [
    "def greet(name):\n",
    "    \"\"\"Takes a name and prints it.\"\"\"\n",
    "    print(\"- Hello \" + name + \"!\")\n",
    "    \n",
    "# This is how you call the function:\n",
    "greet(\"Dane\")\n",
    "greet(\"Chris\")\n",
    "greet(\"Lubna\")"
   ]
  },
  {
   "cell_type": "markdown",
   "metadata": {
    "slideshow": {
     "slide_type": "slide"
    }
   },
   "source": [
    "* Note that the function \"greet\" does not return anything, or rather, returns \"None\""
   ]
  },
  {
   "cell_type": "code",
   "execution_count": 10,
   "metadata": {
    "slideshow": {
     "slide_type": "fragment"
    }
   },
   "outputs": [
    {
     "name": "stdout",
     "output_type": "stream",
     "text": [
      "- Hello Nora!\n",
      "('- The function returns', None)\n"
     ]
    }
   ],
   "source": [
    "def greet(name):\n",
    "    \"\"\"Takes a name and prints it.\"\"\"\n",
    "    print(\"- Hello \" + name + \"!\")\n",
    "\n",
    "# If we try to save what it returns, we find it returns \"None\"\n",
    "x =greet(\"Nora\")\n",
    "print(\"- The function returns\", x)"
   ]
  },
  {
   "cell_type": "code",
   "execution_count": 29,
   "metadata": {
    "slideshow": {
     "slide_type": "slide"
    }
   },
   "outputs": [
    {
     "name": "stdout",
     "output_type": "stream",
     "text": [
      "20\n"
     ]
    }
   ],
   "source": [
    "def multiply_by_two(n):\n",
    "    \"\"\"Takes a number and multiplies it by 2\"\"\"\n",
    "    new_n= n*2\n",
    "    return new_n\n",
    "\n",
    "# Calling the function, harvesting what it returns in a variable \"my_new_number\"\n",
    "my_new_number = multiply_by_two(10)\n",
    "print(my_new_number)"
   ]
  },
  {
   "cell_type": "code",
   "execution_count": 30,
   "metadata": {
    "slideshow": {
     "slide_type": "slide"
    }
   },
   "outputs": [
    {
     "name": "stdout",
     "output_type": "stream",
     "text": [
      "40\n"
     ]
    }
   ],
   "source": [
    "my_new_number = multiply_by_two(20)\n",
    "print(my_new_number)"
   ]
  },
  {
   "cell_type": "code",
   "execution_count": 31,
   "metadata": {
    "slideshow": {
     "slide_type": "slide"
    }
   },
   "outputs": [
    {
     "name": "stdout",
     "output_type": "stream",
     "text": [
      "66\n"
     ]
    }
   ],
   "source": [
    "my_new_number = multiply_by_two(33)\n",
    "print(my_new_number)"
   ]
  },
  {
   "cell_type": "code",
   "execution_count": 33,
   "metadata": {
    "slideshow": {
     "slide_type": "slide"
    }
   },
   "outputs": [
    {
     "name": "stdout",
     "output_type": "stream",
     "text": [
      "15\n"
     ]
    }
   ],
   "source": [
    "def add_two_numbers(n1, n2):\n",
    "    \"\"\"Takes two numbers and returns the result of adding them up.\"\"\"\n",
    "    return n1+n2\n",
    "\n",
    "numbers_added= add_two_numbers(5, 10)\n",
    "print(numbers_added)"
   ]
  },
  {
   "cell_type": "code",
   "execution_count": 34,
   "metadata": {
    "slideshow": {
     "slide_type": "slide"
    }
   },
   "outputs": [
    {
     "name": "stdout",
     "output_type": "stream",
     "text": [
      "14\n"
     ]
    }
   ],
   "source": [
    "numbers_added= add_two_numbers(7, 7)\n",
    "print(numbers_added)"
   ]
  },
  {
   "cell_type": "markdown",
   "metadata": {
    "slideshow": {
     "slide_type": "slide"
    }
   },
   "source": [
    "## Side Note: \"Empty\" Function"
   ]
  },
  {
   "cell_type": "markdown",
   "metadata": {
    "slideshow": {
     "slide_type": "fragment"
    }
   },
   "source": [
    "* You can create a function by just using its syntax, and it can be empty.\n",
    "* People do that when thinking about the higher-up algorithmic structure of their code.\n",
    "* You can go back and fill in the code in the function."
   ]
  },
  {
   "cell_type": "code",
   "execution_count": 27,
   "metadata": {
    "slideshow": {
     "slide_type": "slide"
    }
   },
   "outputs": [
    {
     "name": "stdout",
     "output_type": "stream",
     "text": [
      "<type 'NoneType'>\n"
     ]
    }
   ],
   "source": [
    "def place_filler():\n",
    "    \"\"\"\n",
    "    This is a place filler.\n",
    "    \"\"\"\n",
    "    pass\n",
    "\n",
    "place_filler()\n",
    "print(type(place_filler()))"
   ]
  },
  {
   "cell_type": "code",
   "execution_count": 28,
   "metadata": {
    "slideshow": {
     "slide_type": "slide"
    }
   },
   "outputs": [
    {
     "name": "stdout",
     "output_type": "stream",
     "text": [
      "<type 'function'>\n"
     ]
    }
   ],
   "source": [
    "print(type(add_two_numbers))"
   ]
  },
  {
   "cell_type": "code",
   "execution_count": 33,
   "metadata": {
    "slideshow": {
     "slide_type": "slide"
    }
   },
   "outputs": [
    {
     "name": "stdout",
     "output_type": "stream",
     "text": [
      "<type 'builtin_function_or_method'>\n"
     ]
    }
   ],
   "source": [
    "print(type(len))"
   ]
  },
  {
   "cell_type": "markdown",
   "metadata": {
    "slideshow": {
     "slide_type": "slide"
    }
   },
   "source": [
    "## Example"
   ]
  },
  {
   "cell_type": "markdown",
   "metadata": {
    "slideshow": {
     "slide_type": "fragment"
    }
   },
   "source": [
    "* A function that calculates a raise on top of a base salary."
   ]
  },
  {
   "cell_type": "code",
   "execution_count": 40,
   "metadata": {
    "slideshow": {
     "slide_type": "fragment"
    }
   },
   "outputs": [
    {
     "data": {
      "text/plain": [
       "150.0"
      ]
     },
     "execution_count": 40,
     "metadata": {},
     "output_type": "execute_result"
    }
   ],
   "source": [
    "def yearly_raise(base_salary):\n",
    "    return base_salary *1.50\n",
    "\n",
    "yearly_raise(100)"
   ]
  },
  {
   "cell_type": "code",
   "execution_count": 41,
   "metadata": {
    "slideshow": {
     "slide_type": "slide"
    }
   },
   "outputs": [
    {
     "data": {
      "text/plain": [
       "750.0"
      ]
     },
     "execution_count": 41,
     "metadata": {},
     "output_type": "execute_result"
    }
   ],
   "source": [
    "yearly_raise(500)"
   ]
  },
  {
   "cell_type": "markdown",
   "metadata": {
    "slideshow": {
     "slide_type": "fragment"
    }
   },
   "source": [
    "* The function can be used to calculate a raise for a database of employees\n",
    "* Database is a dict: \"key\" is name of an employee, \"value\" is base_salary"
   ]
  },
  {
   "cell_type": "code",
   "execution_count": 35,
   "metadata": {
    "slideshow": {
     "slide_type": "slide"
    }
   },
   "outputs": [
    {
     "name": "stdout",
     "output_type": "stream",
     "text": [
      "('Vikas', 100000)\n",
      "('Revathi', 70000)\n"
     ]
    }
   ],
   "source": [
    "employees={\"Revathi\": 70000, \"Vikas\": 100000} \n",
    "for name in employees:\n",
    "    print(name, employees[name])\n",
    "   "
   ]
  },
  {
   "cell_type": "code",
   "execution_count": 1,
   "metadata": {
    "slideshow": {
     "slide_type": "slide"
    }
   },
   "outputs": [
    {
     "name": "stdout",
     "output_type": "stream",
     "text": [
      "('Vikas', 150000.0)\n",
      "('Revathi', 105000.0)\n"
     ]
    }
   ],
   "source": [
    "employees={\"Revathi\": 70000, \"Vikas\": 100000} \n",
    "\n",
    "def yearly_raise(base_salary):\n",
    "    return base_salary *1.50\n",
    "\n",
    "for name in employees:\n",
    "    base=employees[name]\n",
    "    total=yearly_raise(base)\n",
    "    print(name, total)"
   ]
  },
  {
   "cell_type": "code",
   "execution_count": 2,
   "metadata": {
    "slideshow": {
     "slide_type": "slide"
    }
   },
   "outputs": [
    {
     "name": "stdout",
     "output_type": "stream",
     "text": [
      "1300.0\n"
     ]
    }
   ],
   "source": [
    "# A more flexible function that can raise salary by varying percents\n",
    "def intelligent_yearly_raise(base_salary, raise_percent):\n",
    "    raise_amount=base_salary*raise_percent\n",
    "    # 100 * 0.2 = $20\n",
    "    new_salary= base_salary+ raise_amount # 100 + 20\n",
    "    return new_salary\n",
    "\n",
    "x=intelligent_yearly_raise(1000, 0.3)\n",
    "print(x)"
   ]
  },
  {
   "cell_type": "code",
   "execution_count": 3,
   "metadata": {
    "slideshow": {
     "slide_type": "slide"
    }
   },
   "outputs": [
    {
     "name": "stdout",
     "output_type": "stream",
     "text": [
      "1350.0\n"
     ]
    }
   ],
   "source": [
    "x=intelligent_yearly_raise(1000, 0.35)\n",
    "print(x)"
   ]
  },
  {
   "cell_type": "code",
   "execution_count": 4,
   "metadata": {
    "slideshow": {
     "slide_type": "slide"
    }
   },
   "outputs": [
    {
     "name": "stdout",
     "output_type": "stream",
     "text": [
      "1.22673165006e+11\n"
     ]
    }
   ],
   "source": [
    "x=intelligent_yearly_raise(78364378254, 0.56542)\n",
    "print(x)"
   ]
  },
  {
   "cell_type": "markdown",
   "metadata": {
    "slideshow": {
     "slide_type": "slide"
    }
   },
   "source": [
    "## Excercise"
   ]
  },
  {
   "cell_type": "markdown",
   "metadata": {
    "slideshow": {
     "slide_type": "fragment"
    }
   },
   "source": [
    "* Run the function \"yearly_raise()\" on a salary = 85000\n",
    "* Create a database of book prices with entries\n",
    "* The database can be a dict, with \"key\" as book name and \"value\" as price\n",
    "* Create a \"sale\" function that returns the price of a book after a 10% discount of its total price\n",
    "* Use the funtion to print all the 5 entries in the database and their new prices"
   ]
  },
  {
   "cell_type": "markdown",
   "metadata": {
    "slideshow": {
     "slide_type": "slide"
    }
   },
   "source": [
    "## A Function That Creates a Dictionary of Word Frequencies"
   ]
  },
  {
   "cell_type": "code",
   "execution_count": 78,
   "metadata": {
    "collapsed": true,
    "slideshow": {
     "slide_type": "fragment"
    }
   },
   "outputs": [],
   "source": [
    "# text below is from https://en.wikipedia.org/wiki/Artificial_neural_network\n",
    "text=\"\"\"In machine learning and cognitive science, artificial neural networks (ANNs) \n",
    "    are a family of models inspired by biological neural networks (the central nervous systems of animals\n",
    "          in particular the brain) and are used to estimate or approximate functions that can \n",
    "          depend on a large number of inputs and are generally unknown. Artificial neural \n",
    "          networks are generally presented as systems of interconnected \"neurons\" which \n",
    "          exchange messages between each other. The connections have numeric weights that can be \n",
    "          tuned based  on experience, making neural nets adaptive to inputs and capable of learning.\"\"\"\n"
   ]
  },
  {
   "cell_type": "markdown",
   "metadata": {
    "slideshow": {
     "slide_type": "slide"
    }
   },
   "source": [
    "## Pre-Process Text"
   ]
  },
  {
   "cell_type": "code",
   "execution_count": 79,
   "metadata": {
    "slideshow": {
     "slide_type": "fragment"
    }
   },
   "outputs": [
    {
     "name": "stdout",
     "output_type": "stream",
     "text": [
      "['in machine learning and cognitive science, artificial neural networks (anns) \\n    are a family of models inspired by biological neural networks (the central nervous systems of animals\\n          in particular the brain) and are used to estimate or approximate functions that can \\n          depend on a large number of inputs and are generally unknown', ' artificial neural \\n          networks are generally presented as systems of interconnected \"neurons\" which \\n          exchange messages between each other', ' the connections have numeric weights that can be \\n          tuned based  on experience, making neural nets adaptive to inputs and capable of learning', '']\n"
     ]
    }
   ],
   "source": [
    "text=text.lower()\n",
    "sentences= text.split(\".\")\n",
    "print(sentences)"
   ]
  },
  {
   "cell_type": "markdown",
   "metadata": {
    "slideshow": {
     "slide_type": "slide"
    }
   },
   "source": [
    "* Remove \"\"\\n\" (replace it with empty string)"
   ]
  },
  {
   "cell_type": "code",
   "execution_count": 80,
   "metadata": {
    "slideshow": {
     "slide_type": "fragment"
    }
   },
   "outputs": [
    {
     "name": "stdout",
     "output_type": "stream",
     "text": [
      "['in machine learning and cognitive science, artificial neural networks (anns)     are a family of models inspired by biological neural networks (the central nervous systems of animals          in particular the brain) and are used to estimate or approximate functions that can           depend on a large number of inputs and are generally unknown', ' artificial neural           networks are generally presented as systems of interconnected \"neurons\" which           exchange messages between each other', ' the connections have numeric weights that can be           tuned based  on experience, making neural nets adaptive to inputs and capable of learning', '']\n"
     ]
    }
   ],
   "source": [
    "text=text.replace(\"\\n\", \"\")\n",
    "sentences= text.split(\".\")\n",
    "print(sentences)"
   ]
  },
  {
   "cell_type": "code",
   "execution_count": 84,
   "metadata": {
    "slideshow": {
     "slide_type": "slide"
    }
   },
   "outputs": [
    {
     "name": "stdout",
     "output_type": "stream",
     "text": [
      "('and', 4)\n",
      "('are', 4)\n",
      "('learning', 2)\n",
      "('in', 2)\n",
      "('networks', 3)\n",
      "('generally', 2)\n",
      "('artificial', 2)\n",
      "('to', 2)\n",
      "('systems', 2)\n",
      "('inputs', 2)\n",
      "('that', 2)\n",
      "('a', 2)\n",
      "('on', 2)\n",
      "('neural', 4)\n",
      "('of', 5)\n",
      "('can', 2)\n",
      "('the', 2)\n"
     ]
    }
   ],
   "source": [
    "from collections import defaultdict\n",
    "\n",
    "def get_dict(sentences):\n",
    "    \"\"\"\n",
    "    arguments:\n",
    "    input: @sentences: a list of sentences\n",
    "    returns: a dictionary of the words in the sentences.\n",
    "             dict key is a word and value is word frequency\n",
    "    \"\"\"\n",
    "    word_freq=defaultdict(int)\n",
    "    for sent in sentences:\n",
    "        words=sent.split()\n",
    "        for w in words:\n",
    "            word_freq[w]+=1\n",
    "    return word_freq\n",
    "        \n",
    "freqs=get_dict(sentences)\n",
    "for w in freqs:\n",
    "    if freqs[w] > 1:\n",
    "        print(w, freqs[w])"
   ]
  },
  {
   "cell_type": "markdown",
   "metadata": {
    "slideshow": {
     "slide_type": "slide"
    }
   },
   "source": [
    "## Filter out Short Words"
   ]
  },
  {
   "cell_type": "code",
   "execution_count": 87,
   "metadata": {
    "slideshow": {
     "slide_type": "fragment"
    }
   },
   "outputs": [
    {
     "name": "stdout",
     "output_type": "stream",
     "text": [
      "('learning', 2)\n",
      "('networks', 3)\n",
      "('generally', 2)\n",
      "('artificial', 2)\n",
      "('systems', 2)\n",
      "('inputs', 2)\n",
      "('that', 2)\n",
      "('neural', 4)\n"
     ]
    }
   ],
   "source": [
    "for w in freqs:\n",
    "    if freqs[w] > 1 and len(w) > 3:\n",
    "        print(w, freqs[w])"
   ]
  },
  {
   "cell_type": "markdown",
   "metadata": {
    "slideshow": {
     "slide_type": "slide"
    }
   },
   "source": [
    "## Excercise"
   ]
  },
  {
   "cell_type": "markdown",
   "metadata": {
    "slideshow": {
     "slide_type": "fragment"
    }
   },
   "source": [
    "* Copy and paste some text from the Python Wikipedia page (https://en.wikipedia.org/wiki/Python_(programming_language) \n",
    "in a variable \"py_text\".\n",
    "* Try to have at least 10 sentences in the text.\n",
    "* Remeber to use triple coutes (\"\"\") around your text to avoid problems with internal punctuation.\n",
    "* Lowercase all the text \n",
    "* Change the text into a list of sentences\n",
    "* Use the \"get_dict()\" function above to calculate the frequencies of words in the list of sentences.\n",
    "* Print all the words that occur with a freq of 3 and has length > 4 characters."
   ]
  }
 ],
 "metadata": {
  "celltoolbar": "Slideshow",
  "kernelspec": {
   "display_name": "Python 2",
   "language": "python",
   "name": "python2"
  },
  "language_info": {
   "codemirror_mode": {
    "name": "ipython",
    "version": 2
   },
   "file_extension": ".py",
   "mimetype": "text/x-python",
   "name": "python",
   "nbconvert_exporter": "python",
   "pygments_lexer": "ipython2",
   "version": "2.7.12"
  }
 },
 "nbformat": 4,
 "nbformat_minor": 1
}
