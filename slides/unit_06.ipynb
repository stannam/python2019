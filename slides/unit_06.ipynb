{
 "cells": [
  {
   "cell_type": "markdown",
   "metadata": {
    "slideshow": {
     "slide_type": "slide"
    }
   },
   "source": [
    "# Conditionals & Loops"
   ]
  },
  {
   "cell_type": "markdown",
   "metadata": {
    "slideshow": {
     "slide_type": "slide"
    }
   },
   "source": [
    "* We can print items in a list using a \"for\" loop."
   ]
  },
  {
   "cell_type": "code",
   "execution_count": 1,
   "metadata": {
    "slideshow": {
     "slide_type": "slide"
    }
   },
   "outputs": [
    {
     "name": "stdout",
     "output_type": "stream",
     "text": [
      "apple\n",
      "strawberry\n",
      "grapes\n"
     ]
    }
   ],
   "source": [
    "fruits=[\"apple\", \"strawberry\", \"grapes\"]\n",
    "for i in fruits:\n",
    "    print(i)"
   ]
  },
  {
   "cell_type": "markdown",
   "metadata": {
    "slideshow": {
     "slide_type": "slide"
    }
   },
   "source": [
    "## Printing with conditions"
   ]
  },
  {
   "cell_type": "code",
   "execution_count": 2,
   "metadata": {
    "slideshow": {
     "slide_type": "fragment"
    }
   },
   "outputs": [
    {
     "name": "stdout",
     "output_type": "stream",
     "text": [
      "apple\n",
      "grapes\n"
     ]
    }
   ],
   "source": [
    "fruits=[\"apple\", \"strawberry\", \"grapes\"]\n",
    "for i in fruits:\n",
    "    if \"p\" in i:\n",
    "        print(i)"
   ]
  },
  {
   "cell_type": "code",
   "execution_count": 3,
   "metadata": {
    "slideshow": {
     "slide_type": "slide"
    }
   },
   "outputs": [
    {
     "name": "stdout",
     "output_type": "stream",
     "text": [
      "apple\n"
     ]
    }
   ],
   "source": [
    "fruits=[\"apple\", \"strawberry\", \"grapes\"]\n",
    "for i in fruits:\n",
    "    if \"pp\" in i:\n",
    "        print(i)"
   ]
  },
  {
   "cell_type": "code",
   "execution_count": 6,
   "metadata": {
    "slideshow": {
     "slide_type": "slide"
    }
   },
   "outputs": [
    {
     "name": "stdout",
     "output_type": "stream",
     "text": [
      "grapes\n"
     ]
    }
   ],
   "source": [
    "fruits=[\"apple\", \"strawberry\", \"grapes\"]\n",
    "for i in fruits:\n",
    "    if \"p\" in i and i.endswith(\"s\"):\n",
    "        print(i)"
   ]
  },
  {
   "cell_type": "code",
   "execution_count": 7,
   "metadata": {
    "slideshow": {
     "slide_type": "slide"
    }
   },
   "outputs": [
    {
     "name": "stdout",
     "output_type": "stream",
     "text": [
      "GRAPES\n"
     ]
    }
   ],
   "source": [
    "fruits=[\"apple\", \"strawberry\", \"grapes\"]\n",
    "for i in fruits:\n",
    "    if \"p\" in i and i.endswith(\"s\"):\n",
    "        print(i.upper())"
   ]
  },
  {
   "cell_type": "code",
   "execution_count": 9,
   "metadata": {
    "slideshow": {
     "slide_type": "slide"
    }
   },
   "outputs": [
    {
     "name": "stdout",
     "output_type": "stream",
     "text": [
      "strawberry\n"
     ]
    }
   ],
   "source": [
    "fruits=[\"apple\", \"strawberry\", \"grapes\"]\n",
    "for i in fruits:\n",
    "    if len(i) > 6:\n",
    "        print(i)"
   ]
  },
  {
   "cell_type": "code",
   "execution_count": 13,
   "metadata": {
    "slideshow": {
     "slide_type": "slide"
    }
   },
   "outputs": [
    {
     "name": "stdout",
     "output_type": "stream",
     "text": [
      "('strawberry', 10)\n"
     ]
    }
   ],
   "source": [
    "fruits=[\"apple\", \"strawberry\", \"grapes\"]\n",
    "for i in fruits:\n",
    "    if len(i) > 6:\n",
    "        print(i, len(i))"
   ]
  },
  {
   "cell_type": "code",
   "execution_count": 16,
   "metadata": {
    "slideshow": {
     "slide_type": "slide"
    }
   },
   "outputs": [
    {
     "name": "stdout",
     "output_type": "stream",
     "text": [
      "Item with length > 6 is strawberry.\n"
     ]
    }
   ],
   "source": [
    "fruits=[\"apple\", \"strawberry\", \"grapes\"]\n",
    "for i in fruits:\n",
    "    if len(i) > 6:\n",
    "        print(\"Item with length > 6 is {}.\").format(i)"
   ]
  },
  {
   "cell_type": "code",
   "execution_count": 20,
   "metadata": {
    "slideshow": {
     "slide_type": "slide"
    }
   },
   "outputs": [
    {
     "name": "stdout",
     "output_type": "stream",
     "text": [
      "- \"apple\" has length 5.\n",
      "- \"strawberry\" has length 10.\n",
      "- \"grapes\" has length 6.\n"
     ]
    }
   ],
   "source": [
    "fruits=[\"apple\", \"strawberry\", \"grapes\"]\n",
    "for i in fruits:\n",
    "    print(\"- \\\"{}\\\" has length {}.\").format(i, len(i))"
   ]
  },
  {
   "cell_type": "markdown",
   "metadata": {
    "slideshow": {
     "slide_type": "slide"
    }
   },
   "source": [
    "## Excercise"
   ]
  },
  {
   "cell_type": "markdown",
   "metadata": {
    "slideshow": {
     "slide_type": "fragment"
    }
   },
   "source": [
    "* Create a list with five items (e.g., names of flowers)\n",
    "* Print all items in the list that have length > 5 characters\n",
    "* Print items that have the letter \"s\" or \"t\" in them\n",
    "* Use a \"for\" loop to print all the items in the list\n",
    "* Use a \"for\" loop to print only the last two items in the list"
   ]
  },
  {
   "cell_type": "markdown",
   "metadata": {
    "slideshow": {
     "slide_type": "slide"
    }
   },
   "source": [
    "## Boolean / Truth Values"
   ]
  },
  {
   "cell_type": "markdown",
   "metadata": {
    "slideshow": {
     "slide_type": "fragment"
    }
   },
   "source": [
    "* The following values are considered by the interpreter to mean \"false\" when evaluated as a Boolean expression.\n",
    "* False, None, 0, \"\", (), [], {}\n",
    "* An example of a boolean expression is the condition of an if statement."
   ]
  },
  {
   "cell_type": "code",
   "execution_count": 22,
   "metadata": {
    "slideshow": {
     "slide_type": "slide"
    }
   },
   "outputs": [
    {
     "name": "stdout",
     "output_type": "stream",
     "text": [
      "There is no name!\n"
     ]
    }
   ],
   "source": [
    "name=\"\"\n",
    "if not name:\n",
    "    print(\"There is no name!\")"
   ]
  },
  {
   "cell_type": "code",
   "execution_count": 23,
   "metadata": {
    "slideshow": {
     "slide_type": "slide"
    }
   },
   "outputs": [
    {
     "data": {
      "text/plain": [
       "''"
      ]
     },
     "execution_count": 23,
     "metadata": {},
     "output_type": "execute_result"
    }
   ],
   "source": [
    "name"
   ]
  },
  {
   "cell_type": "code",
   "execution_count": 25,
   "metadata": {
    "slideshow": {
     "slide_type": "slide"
    }
   },
   "outputs": [
    {
     "name": "stdout",
     "output_type": "stream",
     "text": [
      "There are no cities!\n"
     ]
    }
   ],
   "source": [
    "cities=[]\n",
    "if not cities:\n",
    "    print(\"There are no cities!\")"
   ]
  },
  {
   "cell_type": "markdown",
   "metadata": {
    "slideshow": {
     "slide_type": "slide"
    }
   },
   "source": [
    "## else Clause"
   ]
  },
  {
   "cell_type": "code",
   "execution_count": 26,
   "metadata": {
    "slideshow": {
     "slide_type": "fragment"
    }
   },
   "outputs": [
    {
     "name": "stdout",
     "output_type": "stream",
     "text": [
      "There are no cities!\n"
     ]
    }
   ],
   "source": [
    "cities=[]\n",
    "if cities:\n",
    "    print(\"There are\", len(cities), \"cities!\")\n",
    "else:\n",
    "    print(\"There are no cities!\")"
   ]
  },
  {
   "cell_type": "code",
   "execution_count": 27,
   "metadata": {
    "slideshow": {
     "slide_type": "slide"
    }
   },
   "outputs": [
    {
     "name": "stdout",
     "output_type": "stream",
     "text": [
      "('There are', 5, 'cities!')\n"
     ]
    }
   ],
   "source": [
    "cities=[\"Vancouver\", \"Seattle\", \"Florida\", \"Toronto\", \"NYC\"]\n",
    "if cities:\n",
    "    print(\"There are\", len(cities), \"cities!\")\n",
    "else:\n",
    "    print(\"There are no cities!\")"
   ]
  },
  {
   "cell_type": "markdown",
   "metadata": {
    "slideshow": {
     "slide_type": "slide"
    }
   },
   "source": [
    "## elif"
   ]
  },
  {
   "cell_type": "code",
   "execution_count": 28,
   "metadata": {
    "slideshow": {
     "slide_type": "fragment"
    }
   },
   "outputs": [
    {
     "name": "stdout",
     "output_type": "stream",
     "text": [
      "('Vancouver', 'is really beautiful!')\n",
      "('Seattle', 'is a nice city!')\n",
      "('Orlando', 'is in the sunshine state!')\n",
      "('Toronto', 'is a nice city!')\n",
      "('NYC', 'is a nice city!')\n"
     ]
    }
   ],
   "source": [
    "cities=[\"Vancouver\", \"Seattle\", \"Orlando\", \"Toronto\", \"NYC\"]\n",
    "for i in cities:\n",
    "    if i.startswith(\"O\"):\n",
    "        print(i, \"is in the sunshine state!\")\n",
    "    elif i.startswith(\"V\"):\n",
    "        print(i, \"is really beautiful!\")\n",
    "    else:\n",
    "        print(i, \"is a nice city!\")"
   ]
  },
  {
   "cell_type": "markdown",
   "metadata": {
    "slideshow": {
     "slide_type": "slide"
    }
   },
   "source": [
    "## Nested Blocks"
   ]
  },
  {
   "cell_type": "code",
   "execution_count": 30,
   "metadata": {
    "slideshow": {
     "slide_type": "fragment"
    }
   },
   "outputs": [
    {
     "name": "stdout",
     "output_type": "stream",
     "text": [
      "('Orlando', 'is in the U.S.!')\n",
      "('Oakville', 'is in Canada!')\n",
      "('Oakland', 'is in the U.S.!')\n"
     ]
    }
   ],
   "source": [
    "cities=[\"Vancouver\", \"Seattle\", \"Orlando\", \"Toronto\", \"NYC\", \"Oakville\", \"Oakland\"]\n",
    "canadian={\"Vancouver\": 0, \"Toronto\": 0, \"Oakville\": 0}\n",
    "# us={\"Seattle\": 0, \"Orlando\": 0, \"NYC\": 0, \"Oakland\": 0}\n",
    "for i in cities:\n",
    "    if i.startswith(\"O\"):\n",
    "        if i in canadian:\n",
    "            print(i, \"is in Canada!\")\n",
    "        else:\n",
    "            print(i, \"is in the U.S.!\")"
   ]
  },
  {
   "cell_type": "markdown",
   "metadata": {
    "slideshow": {
     "slide_type": "slide"
    }
   },
   "source": [
    "## Conditions with \"and\" & \"or\""
   ]
  },
  {
   "cell_type": "code",
   "execution_count": 38,
   "metadata": {
    "slideshow": {
     "slide_type": "slide"
    }
   },
   "outputs": [
    {
     "name": "stdout",
     "output_type": "stream",
     "text": [
      "xz\n",
      "bz\n"
     ]
    }
   ],
   "source": [
    "my_dict={\"aaaa\":10, \"b\":20, \"bz\":20, \"xz\":55, \"sss\":55}\n",
    "for k in my_dict:\n",
    "    if len(k)==2 and (k.endswith(\"z\") or k.startswith(\"s\")):\n",
    "        print(k)"
   ]
  },
  {
   "cell_type": "markdown",
   "metadata": {
    "slideshow": {
     "slide_type": "slide"
    }
   },
   "source": [
    "## Use of Parantheses"
   ]
  },
  {
   "cell_type": "code",
   "execution_count": 40,
   "metadata": {
    "slideshow": {
     "slide_type": "slide"
    }
   },
   "outputs": [
    {
     "name": "stdout",
     "output_type": "stream",
     "text": [
      "xz\n",
      "bz\n"
     ]
    }
   ],
   "source": [
    "my_dict={\"aaaa\":10, \"b\":20, \"bz\":20, \"xz\":55, \"sss\":55}\n",
    "for k in my_dict:\n",
    "    if len(k)==2 and ((k.endswith(\"z\") or k.startswith(\"s\"))):\n",
    "        print(k)"
   ]
  },
  {
   "cell_type": "code",
   "execution_count": 3,
   "metadata": {
    "slideshow": {
     "slide_type": "slide"
    }
   },
   "outputs": [
    {
     "name": "stdout",
     "output_type": "stream",
     "text": [
      "xz\n",
      "sss\n",
      "bz\n"
     ]
    }
   ],
   "source": [
    "my_dict={\"aaaa\":10, \"b\":20, \"bz\":20, \"xz\":55, \"sss\":55}\n",
    "for k in my_dict:\n",
    "    if (len(k)==2 and k.endswith(\"z\") or k.startswith(\"s\")):\n",
    "        print(k)"
   ]
  },
  {
   "cell_type": "markdown",
   "metadata": {
    "slideshow": {
     "slide_type": "slide"
    }
   },
   "source": [
    "# List Comprehension"
   ]
  },
  {
   "cell_type": "code",
   "execution_count": 8,
   "metadata": {
    "slideshow": {
     "slide_type": "slide"
    }
   },
   "outputs": [
    {
     "name": "stdout",
     "output_type": "stream",
     "text": [
      "s t r a w b e r r y\n"
     ]
    }
   ],
   "source": [
    "dessert=\"strawberry\"\n",
    "for c in dessert:\n",
    "    print(c),"
   ]
  },
  {
   "cell_type": "code",
   "execution_count": 9,
   "metadata": {},
   "outputs": [
    {
     "name": "stdout",
     "output_type": "stream",
     "text": [
      "['s', 't', 'r', 'a', 'w', 'b', 'e', 'r', 'r', 'y']\n"
     ]
    }
   ],
   "source": [
    "dessert=\"strawberry\"\n",
    "chars=[]\n",
    "for c in dessert:\n",
    "    chars.append(c)\n",
    "print(chars)"
   ]
  },
  {
   "cell_type": "code",
   "execution_count": 10,
   "metadata": {
    "slideshow": {
     "slide_type": "fragment"
    }
   },
   "outputs": [
    {
     "name": "stdout",
     "output_type": "stream",
     "text": [
      "['s', 't', 'r', 'a', 'w', 'b', 'e', 'r', 'r', 'y']\n"
     ]
    }
   ],
   "source": [
    "dessert=\"strawberry\"\n",
    "chars=[c for c in dessert]\n",
    "print(chars)"
   ]
  },
  {
   "cell_type": "code",
   "execution_count": 21,
   "metadata": {
    "slideshow": {
     "slide_type": "slide"
    }
   },
   "outputs": [
    {
     "name": "stdout",
     "output_type": "stream",
     "text": [
      "['s', 't', 'r', 'w', 'b', 'r', 'r']\n"
     ]
    }
   ],
   "source": [
    "# With a condition\n",
    "dessert=\"strawberry\"\n",
    "vowels=[\"a\", \"e\", \"y\"]\n",
    "chars=[c for c in dessert if c not in vowels]\n",
    "print(chars)"
   ]
  },
  {
   "cell_type": "code",
   "execution_count": 61,
   "metadata": {
    "scrolled": true,
    "slideshow": {
     "slide_type": "slide"
    }
   },
   "outputs": [
    {
     "name": "stdout",
     "output_type": "stream",
     "text": [
      "k\n",
      "i\n",
      "n\n",
      "g\n",
      "['i', 'n', 'g']\n"
     ]
    }
   ],
   "source": [
    "for c in \"king\":\n",
    "    print(c)\n",
    "    \n",
    "x=[c for c in \"king\" if c !=\"k\"]\n",
    "print x"
   ]
  }
 ],
 "metadata": {
  "celltoolbar": "Slideshow",
  "kernelspec": {
   "display_name": "Python 2",
   "language": "python",
   "name": "python2"
  },
  "language_info": {
   "codemirror_mode": {
    "name": "ipython",
    "version": 2
   },
   "file_extension": ".py",
   "mimetype": "text/x-python",
   "name": "python",
   "nbconvert_exporter": "python",
   "pygments_lexer": "ipython2",
   "version": "2.7.12"
  }
 },
 "nbformat": 4,
 "nbformat_minor": 1
}
